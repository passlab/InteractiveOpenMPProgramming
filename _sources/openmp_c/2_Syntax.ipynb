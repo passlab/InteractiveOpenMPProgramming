{
 "cells": [
  {
   "cell_type": "markdown",
   "id": "a45c1d76-fbbb-4ae8-9224-3ede2cefce0c",
   "metadata": {},
   "source": [
    "# Creating a Parallel Program with OpenMP\n",
    "In this section, we will introduce the syntax of OpenMP, how to compile OpenMP programs, and give the readers an overall picture of OpenMP programs through two simple examples.\n",
    "\n",
    "## How to compile OpenMP programs?\n",
    "\n",
    "When compiling OpenMP programs, you need to use comiler flags to enable OpenMP, such as –openmp, -xopenmp, -fopenmp, -mp\n",
    "\n",
    "In this book, all our examples are compiled using LLVM/Clang on Ubuntu 20.04. LLVM/Clang has the advantages of fast compilation speed, less memory usage, and modular design.\n",
    "To execute OpenMP code, you need to add -fopenmp when compiling. The full command to compile is \n",
    "```js\n",
    "clang -fopenmp filename.c -o filename.o\n",
    "```\n",
    "\n",
    "It is also worth mentioning that when writing OpenMP programs, you need to include the <omp.h> header file.\n",
    "\n",
    "\n",
    "## OpenMP Directives and Syntax\n",
    "A series of directives and clauses in OpenMP identify code blocks as parallel regions. Programmers only need to insert these directives into the code, so OpenMP is defined as a kind of directive_based language.\n",
    "In C/C++, the directive is based on the #pragma omp construct. In Fortran, instructions begin with ! $omp. This is a regular language pragma (in C/C++) or a regular comment (in Fortran) for Compilers. So special option is need when the compiler is required to generate OpenMP code. Otherwise the compiler won't recognize it and simply ignore it.\n",
    "\n",
    "The basic format of OpenMP directive in C/C++ is as follows:\n",
    "```\n",
    "#pragma omp directive-name [clause[ [,] clause]...]\n",
    "```\n",
    "In fortran, the directives take one of the forms:\n",
    "\n",
    "Fixed forms:\n",
    "```\n",
    "*$OMP directive-name [clause[ [,] clause]...]\n",
    "C$OMP directive-name [clause[ [,] clause]...]\n",
    "```\n",
    "Free form (but works for fixed form too):\n",
    "```\n",
    "!$omp directive-name [clause[ [,] clause]...]\n",
    "```\n",
    "\n",
    "Where '[]' means optional. A directive acts on the statement immediately following it or a block of statements enclosed by '{}'. Common diretcives are parallel, for, sections, single, atomic, barrier, simd, target, etc.\n",
    "Clause is equivalent to the modification of directive, which can be used to specify additional information with the directive. The specific clause(s) that can be used, depends on the directive.\n",
    "\n",
    "In Fortran, OpenMP directives specify a paired end directive, where the directive-name of the paired end directives is:\n",
    "\n",
    "• If directive-name starts with begin, the end-directive-name replaces begin with end\n",
    "\n",
    "• otherwise it is end directive-name unless otherwise specified.\n",
    "\n",
    "## OpenMP Parallel Regions\n",
    "\n",
    "As we have mentioned in the previous section, parallel region is a block of code executed by all threads in a team simultaneously. A block is a logically connected group of program statements considered as a unit. Next, let's take a look at how code blocks are defined in C/C++ and fortran.\n",
    "In C/C++, a block is a single statement or a group of statement between opening and closing curly braces. for example:\n",
    "\n",
    "```\n",
    "#pragma omp parallel\n",
    "{\n",
    "      id = omp_get_thread_num();\n",
    "      res[id] = lots_of_work(id);\n",
    "}\n",
    "```\n",
    "The two statements between the curly braces are a logical unit where one statement cannot be executed without the other being executed. They form a code block.\n",
    "\n",
    "Another example:\n",
    "```\n",
    "#pragma omp parallel for\n",
    "for(i=0;i<N;i++) {\n",
    "       res[i] = big_calc(i);\n",
    "       A[i] = B[i] + res[i];\n",
    "  }\n",
    "```\n",
    "Same with the above example, the two statements between the curly braces are a code block.\n",
    "\n",
    "In Fortran, a block is a single statement or a group of statements between directive/end-directive pairs. For example:\n",
    "```\n",
    "!$OMP PARALLEL\n",
    "10    wrk(id) = garbage(id)\n",
    "      res(id) = wrk(id)**2\n",
    "      if(.not.conv(res(id)) goto 10\n",
    "!$OMP END PARALLEL\n",
    "```\n",
    "Another example:\n",
    "```\n",
    "!$OMP PARALLEL DO\n",
    "    do i=1,N\n",
    "        res(i)=bigComp(i)\n",
    "    end do \n",
    "!$OMP END PARALLEL DO\n",
    "```\n",
    "In fortran, OpenMP directives specify a paired end directive. Therefore, in the above two examples, the statements between the OpenMP directive and the corresponding end directive form a code block, which is also a parallel region.\n",
    "\n",
    "## Creating a simple OpenMP Program\n",
    "This simple OpenMP program execute in parallel using multiple threads, and each thread outputs a 'Hello World'."
   ]
  },
  {
   "cell_type": "code",
   "execution_count": 1,
   "id": "e91021a8-1744-46a4-8929-dc897dc30f3d",
   "metadata": {},
   "outputs": [
    {
     "name": "stdout",
     "output_type": "stream",
     "text": [
      "Hello World\n",
      "Hello World\n",
      "Hello World\n",
      "Hello World\n",
      "Hello World\n",
      "Hello World\n",
      "Hello World\n",
      "Hello World\n"
     ]
    }
   ],
   "source": [
    "//%compiler: clang\n",
    "//%cflags: -fopenmp\n",
    "\n",
    "#include <stdio.h>\n",
    "#include <stdlib.h>\n",
    "#include <omp.h>\n",
    "\n",
    "int main(int argc, char *argv[]){\n",
    "    #pragma omp parallel\n",
    "    printf(\"%s\\n\", \"Hello World\");\n",
    "    \n",
    "    return 0;\n",
    "}"
   ]
  },
  {
   "cell_type": "markdown",
   "id": "10854180-9aed-44fb-bc31-7af8927e1675",
   "metadata": {},
   "source": [
    "\"#pragma omp parallel\" indicates that the subsequent statement will be executed by multiple threads in parallel, and the number of threads is preset by the system (generally equal to the number of logical processors, for example, i5 4-core 8-thread CPU has 8 logical processors),\n",
    "\n",
    "If we want to specify the number of threads, we can add optional clauses to this directive, such as \"#pragma omp parallel num_threads(4)\" still means that the subsequent statement will be executed by multiple threads in parallel, but the number of threads is 4 ."
   ]
  },
  {
   "cell_type": "code",
   "execution_count": 2,
   "id": "7ce78416-fe49-4d11-aa90-18defa433799",
   "metadata": {},
   "outputs": [
    {
     "name": "stdout",
     "output_type": "stream",
     "text": [
      "Hello World\n",
      "Hello World\n",
      "Hello World\n",
      "Hello World\n"
     ]
    }
   ],
   "source": [
    "//%compiler: clang\n",
    "//%cflags: -fopenmp\n",
    "\n",
    "#include <stdio.h>\n",
    "#include <stdlib.h>\n",
    "#include <omp.h>\n",
    "\n",
    "int main(int argc, char *argv[]){\n",
    "    #pragma omp parallel num_threads(4)\n",
    "    printf(\"%s\\n\", \"Hello World\");\n",
    "    \n",
    "    return 0;\n",
    "}"
   ]
  },
  {
   "cell_type": "markdown",
   "id": "3567be43-e4a6-4bb3-a0c0-1052593d313b",
   "metadata": {},
   "source": [
    "Through these two simple examples, I believe the readers already understood the basic structure of an OpenMP program. Next, we will introduce the factors that affect the performance of the OpenMP program."
   ]
  }
 ],
 "metadata": {
  "kernelspec": {
   "display_name": "Native",
   "language": "native",
   "name": "native"
  },
  "language_info": {
   "file_extension": ".c",
   "mimetype": "text/plain",
   "name": "c"
  }
 },
 "nbformat": 4,
 "nbformat_minor": 5
}
