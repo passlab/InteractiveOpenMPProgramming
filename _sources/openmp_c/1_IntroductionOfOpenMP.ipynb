{
 "cells": [
  {
   "cell_type": "markdown",
   "id": "3fd7c2f9-f29e-4057-982e-01836c6c6940",
   "metadata": {},
   "source": [
    "# What is OpenMP?\n",
    "OpenMP is a standard API for defining multi-threaded shared memory-programs. Which means that each thread or proccess can have access to all available memory. This doesn't mean that this is necessarily true but we will get into different memory protocols later. OpenMP is a portale, threaded, shared-memory programming specification with \"light\" syntax. OpenMP behavoir is directly dependent on the OpenMP implementation. Capabilties of this implementation can enable the programmer to seperate program into serial and parallel reigons rather than just concurrently running threads, hides stack managemend, and provides synchronization of constructs. That being said OpenMP will not garuntee speedup, parallelize dependencies, or prevent data racing. Data racing, keeping track of dependencies, and working towards a speedup are all up to the programmer. \n",
    "\n",
    "# An Example\n",
    "The following is a example of a simple OpenMP program:"
   ]
  },
  {
   "cell_type": "code",
   "execution_count": 6,
   "id": "f8f811b6-102d-43e7-8fca-e36e2852f4d2",
   "metadata": {},
   "outputs": [
    {
     "name": "stdout",
     "output_type": "stream",
     "text": [
      "Hello World\n",
      "Hello World\n",
      "Hello World\n",
      "Hello World\n"
     ]
    }
   ],
   "source": [
    "//%compiler: clang\n",
    "//%cflags: -fopenmp\n",
    "\n",
    "#include <stdio.h>\n",
    "#include <stdlib.h>\n",
    "#include <omp.h>\n",
    "\n",
    "char message[] = \"Hello World\";\n",
    "void hello(){\n",
    "    printf(\"%s\\n\", message);\n",
    "}\n",
    "int main(int argc, char *argv[]){\n",
    "    int threads = 4;\n",
    "    #pragma omp parallel num_threads(threads)\n",
    "    hello();\n",
    "    \n",
    "    return 0;\n",
    "}"
   ]
  },
  {
   "cell_type": "code",
   "execution_count": null,
   "id": "ca50a923-7866-429c-9b25-00bd7c69637f",
   "metadata": {},
   "outputs": [],
   "source": []
  }
 ],
 "metadata": {
  "kernelspec": {
   "display_name": "Native",
   "language": "native",
   "name": "native"
  },
  "language_info": {
   "file_extension": ".c",
   "mimetype": "text/plain",
   "name": "c"
  }
 },
 "nbformat": 4,
 "nbformat_minor": 5
}
