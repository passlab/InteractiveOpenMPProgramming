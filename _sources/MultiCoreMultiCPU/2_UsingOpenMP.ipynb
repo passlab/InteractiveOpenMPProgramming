{
 "cells": [
  {
   "cell_type": "markdown",
   "id": "3f8a3d29-cc57-49bc-88f7-5602d4491cae",
   "metadata": {},
   "source": [
    "# Creating SPMD parallelism using OpenMP **parallel** and **teams** directive"
   ]
  },
  {
   "cell_type": "markdown",
   "id": "80396b0a-815f-4004-b29a-b53a47db1c15",
   "metadata": {},
   "source": [
    "From this part, we begin to introduce how to use OpenMP directives to write programs. We first introduce the most basic and most commonly used **parallel** directive and **teams** directive."
   ]
  },
  {
   "cell_type": "markdown",
   "id": "9c771a6f-d5c6-45df-ab93-d28e8fdb6d9c",
   "metadata": {},
   "source": [
    "## Semantics and Syntax\n",
    "\n",
    "### **parallel** Directive\n",
    "The **parallel** directive is used to mark a parallel region. When a thread encounters a parallel region, a group of threads is created to execute the parallel region. Its syntax in C is:\n",
    "\n",
    "```\n",
    "#pragma omp parallel [clause[ [,] clause] ... ] new-line\n",
    "    structured-block\n",
    "```\n",
    "The syntax in Fortran is:\n",
    "```\n",
    "!$omp parallel do [clause[ [,] clause] ... ]\n",
    "    loop-nest\n",
    "[!$omp end parallel do]\n",
    "```\n",
    "The original thread that executed the serial part will be the primary thread of the new team. All threads in the team execute parallel regions together. After a team is created, the number of threads in the team remains constant for the duration of that parallel region.\n",
    "Within a parallel region, the thread number uniquely identifies each thread. A thread can obtain its own thread number by calling the *omp_get_thread_num* library routine.\n",
    "> Primary thread is also known as the master thread\n",
    "\n",
    "When a thread team is created, the primary thread will implicitly create as many tasks as the number of threads, each task is assigned and bounded to one thread.\n",
    "When threads are all occupied, implicit tasks that have not been allocated will be suspended waiting for idle threads.\n",
    "\n",
    "### **teams** Directive\n",
    "The **teams** directive indicates that the loop that follows is split among multiple thread teams, one thread team computing one part of the task. Developers can use the **teams** directive to use a large number of thread teams.\n",
    "Its syntax is:\n",
    "```\n",
    "#pragma omp teams [clause[ [,] clause] ... ] new-line\n",
    "    structured-block\n",
    "```\n",
    "The syntax in Fortran is:\n",
    "```\n",
    "!$omp teams [clause[ [,] clause] ... ]\n",
    "    loosely-structured-block\n",
    "!$omp end teams\n",
    "```\n",
    "The following figure shows the execution model of the **teams** directive:\n",
    "![teams_directive](teams.jpeg \"topic1\")\n",
    "\n",
    "A league of teams is created when a thread encounters a **teams** construct. Each team is an initial team, and the initial thread in each team executes the team area.\n",
    "After a team is created, the number of initial teams remains the same for the duration of the **teams** region.\n",
    "Within a **teams** region, the initial team number uniquely identifies each initial team. A thread can obtain its own initial team number by calling the *omp_get_team_num* library routine.\n",
    "The teams directive has the following characteristics:\n",
    "- the **teams** directive can spawn one or more thread teams with the same number of threads\n",
    "- code is portable for one thread team or multiple thread teams\n",
    "- only the primary thread of each team continues to execute\n",
    "- no synchronization between thread teams\n",
    "- programmers don't need to think about how to decompose loops\n",
    "\n",
    "OpenMP was originally designed for multithreading on shared-memory parallel computers, so the parallel directive only creates a single layer of parallelism.\n",
    "The team instruction is used to express the second level of scalable parallelization, which can be used not only on the CPU, but also on the GPU.\n"
   ]
  },
  {
   "cell_type": "markdown",
   "id": "45ca913b-05d5-4e99-bf47-bd07d60c6348",
   "metadata": {},
   "source": [
    "## Clauses"
   ]
  },
  {
   "cell_type": "markdown",
   "id": "42d3cfb9-b7ad-4deb-b3bc-c2787f6f1006",
   "metadata": {},
   "source": [
    "## Examples"
   ]
  }
 ],
 "metadata": {
  "kernelspec": {
   "display_name": "Python 3 (ipykernel)",
   "language": "python",
   "name": "python3"
  },
  "language_info": {
   "codemirror_mode": {
    "name": "ipython",
    "version": 3
   },
   "file_extension": ".py",
   "mimetype": "text/x-python",
   "name": "python",
   "nbconvert_exporter": "python",
   "pygments_lexer": "ipython3",
   "version": "3.8.10"
  }
 },
 "nbformat": 4,
 "nbformat_minor": 5
}
