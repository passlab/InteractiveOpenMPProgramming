{
 "cells": [
  {
   "cell_type": "markdown",
   "id": "274986cf-eb9d-43fb-9e5e-747375967074",
   "metadata": {},
   "source": [
    "# Synchronization of threads using barrier and order directive"
   ]
  },
  {
   "cell_type": "markdown",
   "id": "47ec2fe5-66c0-40e3-aeb2-128ddef90823",
   "metadata": {},
   "source": [
    "OpenMP synchronization for barrier and order directive. "
   ]
  }
 ],
 "metadata": {
  "kernelspec": {
   "display_name": "Python 3 (ipykernel)",
   "language": "python",
   "name": "python3"
  },
  "language_info": {
   "codemirror_mode": {
    "name": "ipython",
    "version": 3
   },
   "file_extension": ".py",
   "mimetype": "text/x-python",
   "name": "python",
   "nbconvert_exporter": "python",
   "pygments_lexer": "ipython3",
   "version": "3.11.7"
  }
 },
 "nbformat": 4,
 "nbformat_minor": 5
}
