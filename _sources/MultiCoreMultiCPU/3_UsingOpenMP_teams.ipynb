{
 "cells": [
  {
   "cell_type": "markdown",
   "id": "6d6f12df",
   "metadata": {},
   "source": [
    "# Creating SPMD parallelism using OpenMP **teams** directive"
   ]
  },
  {
   "cell_type": "markdown",
   "id": "e22c5131",
   "metadata": {},
   "source": [
    "In this part, we will introduce how to use OpenMP **teams** directives to create SPMD parallelism."
   ]
  },
  {
   "cell_type": "markdown",
   "id": "18848ac3",
   "metadata": {},
   "source": [
    "### **teams** Directive\n",
    "The **teams** directive indicates that the loop that follows is split among multiple thread teams, one thread team computing one part of the task. Developers can use the **teams** directive to use a large number of thread teams.\n",
    "\n",
    "The following figure shows the execution model of the **teams** directive:\n",
    "![teams_directive](teams.jpeg \"topic1\")\n",
    "\n",
    "A league of teams is created when a thread encounters a **teams** construct. Each team is an initial team, and the initial thread in each team executes the team area.\n",
    "After a team is created, the number of initial teams remains the same for the duration of the **teams** region.\n",
    "Within a **teams** region, the initial team number uniquely identifies each initial team. A thread can obtain its own initial team number by calling the *omp_get_team_num* library routine.\n",
    "The teams directive has the following characteristics:\n",
    "- the **teams** directive can spawn one or more thread teams with the same number of threads\n",
    "- code is portable for one thread team or multiple thread teams\n",
    "- only the primary thread of each team continues to execute\n",
    "- no synchronization between thread teams\n",
    "- programmers don't need to think about how to decompose loops\n",
    "\n",
    "OpenMP was originally designed for multithreading on shared-memory parallel computers, so the parallel directive only creates a single layer of parallelism.\n",
    "The team instruction is used to express the second level of scalable parallelization. Before OpenMP 5.0, it can be only used on the GPU (with an associated target construct). In OpenMP 5.0 the **teams** construct was extended to enable the host to execute a teams region.\n"
   ]
  },
  {
   "cell_type": "code",
   "execution_count": 2,
   "id": "897482af",
   "metadata": {},
   "outputs": [
    {
     "name": "stderr",
     "output_type": "stream",
     "text": [
      "clang: fatal error: cannot find libdevice for sm_35. Provide path to different CUDA installation via --cuda-path, or pass -nocudalib to build without linking with libdevice.\n",
      "[Native kernel] clang exited with code 1, the executable will not be executed"
     ]
    }
   ],
   "source": [
    "//%compiler: clang\n",
    "//%cflags: -fopenmp -fopenmp-targets=nvptx64-nvidia-cuda  -std=c++11 -Wall -Wno-unused-result -Wno-unknown-pragmas -Wfatal-errors -fPIC -fopenmp -fopenmp-targets=nvptx64\n",
    "#include <stdlib.h>\n",
    "#include <omp.h>\n",
    "float dotprod(float B[], float C[], int N) {\n",
    "    float sum0 = 0.0;\n",
    "    float sum1 = 0.0;\n",
    "    #pragma omp target map(to: B[:N], C[:N]) map(tofrom: sum0, sum1)\n",
    "    #pragma omp teams num_teams(2) \n",
    "    {\n",
    "        int i;\n",
    "        if (omp_get_num_teams() != 2)\n",
    "            abort();\n",
    "        if (omp_get_team_num() == 0) {\n",
    "            #pragma omp parallel for reduction(+:sum0)\n",
    "            for (i=0; i<N/2; i++)\n",
    "                sum0 += B[i] * C[i];\n",
    "        } else if (omp_get_team_num() == 1) {\n",
    "            #pragma omp parallel for reduction(+:sum1)\n",
    "            for (i=N/2; i<N; i++)\n",
    "                sum1 += B[i] * C[i];\n",
    "        }\n",
    "    }\n",
    "    return sum0 + sum1;\n",
    "}\n",
    "/* Note: The variables sum0,sum1 are now mapped with tofrom, for correct\n",
    " execution with 4.5 (and pre-4.5) compliant compilers. See Devices Intro.\n",
    " */"
   ]
  },
  {
   "cell_type": "code",
   "execution_count": 1,
   "id": "315a724a",
   "metadata": {},
   "outputs": [
    {
     "name": "stderr",
     "output_type": "stream",
     "text": [
      "OMP: Warning #96: Cannot form a team with 12 threads, using 6 instead.\n",
      "OMP: Hint Consider unsetting KMP_DEVICE_THREAD_LIMIT (KMP_ALL_THREADS), KMP_TEAMS_THREAD_LIMIT, and OMP_THREAD_LIMIT (if any are set).\n"
     ]
    },
    {
     "name": "stdout",
     "output_type": "stream",
     "text": [
      "i=999 sp|dp 999.000000 999.000010 \n",
      "i=500 sp|dp 500.000000 500.000005 \n"
     ]
    }
   ],
   "source": [
    "//%compiler: clang\n",
    "//%cflags: -fopenmp\n",
    "\n",
    "// Need to update the native kernel, or specified that our kernel doesn't support OpenMP 5.0\n",
    "\n",
    "\n",
    "#include <stdio.h>\n",
    "#include <stdlib.h>\n",
    "#include <math.h>\n",
    "#include <omp.h>\n",
    "#define N 1000\n",
    " \n",
    "int main(){\n",
    "    int nteams_required=2, max_thrds, tm_id;\n",
    "    float sp_x[N], sp_y[N], sp_a=0.0001e0;\n",
    "    double dp_x[N], dp_y[N], dp_a=0.0001e0;\n",
    "\n",
    "    // Create 2 teams, each team works in a different precision\n",
    "    #pragma omp teams num_teams(nteams_required) thread_limit(max_thrds) private(tm_id)\n",
    "    {\n",
    "        tm_id = omp_get_team_num();\n",
    "        if( omp_get_num_teams() != 2 ) //if only getting 1, quit \n",
    "        { \n",
    "            printf(\"error: Insufficient teams on host, 2 required\\n\");\n",
    "            exit(0);\n",
    "        }\n",
    "        if(tm_id == 0) // Do Single Precision Work (SAXPY) with this team\n",
    "        {\n",
    "            #pragma omp parallel\n",
    "            {\n",
    "                #pragma omp for //init\n",
    "                for(int i=0; i<N; i++){sp_x[i] = i*0.0001; sp_y[i]=i; }\n",
    "                #pragma omp for simd simdlen(8)\n",
    "                for(int i=0; i<N; i++){sp_x[i] = sp_a*sp_x[i] + sp_y[i];}\n",
    "            }\n",
    "        }\n",
    "        if(tm_id == 1) // Do Double Precision Work (DAXPY) with this team\n",
    "        {\n",
    "            #pragma omp parallel\n",
    "            {\n",
    "                #pragma omp for //init\n",
    "                for(int i=0; i<N; i++){dp_x[i] = i*0.0001; dp_y[i]=i; }\n",
    "                #pragma omp for simd simdlen(4)\n",
    "                for(int i=0; i<N; i++){dp_x[i] = dp_a*dp_x[i] + dp_y[i];}\n",
    "            }\n",
    "        }\n",
    "    }\n",
    "    printf(\"i=%d sp|dp %f %f \\n\",N-1, sp_x[N-1], dp_x[N-1]);\n",
    "    printf(\"i=%d sp|dp %f %f \\n\",N/2, sp_x[N/2], dp_x[N/2]);\n",
    "    //OUTPUT1:i=999 sp|dp 999.000000 999.000010\n",
    "    //OUTPUT2:i=500 sp|dp 500.000000 500.000005\n",
    "    return 0;\n",
    "} "
   ]
  },
  {
   "cell_type": "markdown",
   "id": "b615bdfb",
   "metadata": {},
   "source": [
    "Its syntax is:\n",
    "```\n",
    "#pragma omp teams [clause[ [,] clause] ... ] new-line\n",
    "    structured-block\n",
    "```\n",
    "The syntax in Fortran is:\n",
    "```\n",
    "!$omp teams [clause[ [,] clause] ... ]\n",
    "    loosely-structured-block\n",
    "!$omp end teams\n",
    "```"
   ]
  },
  {
   "cell_type": "markdown",
   "id": "d0629b36",
   "metadata": {},
   "source": [
    "## Clauses"
   ]
  },
  {
   "cell_type": "markdown",
   "id": "1fc04bb4",
   "metadata": {},
   "source": []
  },
  {
   "cell_type": "markdown",
   "id": "e16a6d8d",
   "metadata": {},
   "source": []
  },
  {
   "cell_type": "markdown",
   "id": "a252f343",
   "metadata": {},
   "source": [
    "## Examples"
   ]
  }
 ],
 "metadata": {
  "kernelspec": {
   "display_name": "Native",
   "language": "native",
   "name": "native"
  },
  "language_info": {
   "file_extension": ".c",
   "mimetype": "text/plain",
   "name": "c"
  }
 },
 "nbformat": 4,
 "nbformat_minor": 5
}
