{
 "cells": [
  {
   "cell_type": "markdown",
   "id": "6d6f12df",
   "metadata": {},
   "source": [
    "# Creating SPMD parallelism using OpenMP **parallel** directive"
   ]
  },
  {
   "cell_type": "markdown",
   "id": "e22c5131",
   "metadata": {},
   "source": [
    "From this part, we begin to introduce how to use OpenMP directives to write programs. We first introduce the most basic and most commonly used **parallel** directive."
   ]
  },
  {
   "cell_type": "markdown",
   "id": "89d198a4",
   "metadata": {},
   "source": [
    "## Semantics and Syntax\n",
    "\n",
    "### **parallel** Directive\n",
    "The **parallel** directive is used to mark a parallel region. When a thread encounters a parallel region, a group of threads is created to execute the parallel region.\n",
    "The original thread that executed the serial part will be the primary thread of the new team. All threads in the team execute parallel regions together. After a team is created, the number of threads in the team remains constant for the duration of that parallel region.\n",
    "\n",
    "> Primary thread is also known as the master thread\n",
    "\n",
    "When a thread team is created, the primary thread will implicitly create as many tasks as the number of threads, each task is assigned and bounded to one thread.\n",
    "When threads are all occupied, implicit tasks that have not been allocated will be suspended waiting for idle threads.\n",
    "\n",
    "The following example from Chapter 1 shows how to use the parallel directive in C."
   ]
  },
  {
   "cell_type": "code",
   "execution_count": 1,
   "id": "e14d751a",
   "metadata": {},
   "outputs": [
    {
     "name": "stdout",
     "output_type": "stream",
     "text": [
      "Hello World\n",
      "Hello World\n",
      "Hello World\n",
      "Hello World\n",
      "Hello World\n",
      "Hello World\n",
      "Hello World\n",
      "Hello World\n",
      "Hello World\n",
      "Hello World\n",
      "Hello World\n",
      "Hello World\n"
     ]
    }
   ],
   "source": [
    "//%compiler: clang\n",
    "//%cflags: -fopenmp\n",
    "\n",
    "#include <stdio.h>\n",
    "#include <stdlib.h>\n",
    "#include <omp.h>\n",
    "\n",
    "int main(int argc, char *argv[]){\n",
    "    #pragma omp parallel\n",
    "    printf(\"%s\\n\", \"Hello World\");\n",
    "    \n",
    "    return 0;\n",
    "}"
   ]
  },
  {
   "cell_type": "markdown",
   "id": "7332a65a",
   "metadata": {},
   "source": [
    "This example prints *Hello World* 8 times, which means 8 threads are created by defualt. The default number of threads is determined by the computer hardware, 8 threads are created on the author's computer. \n",
    "The following example shows how to use the num_threads clause in the parallel directive to specify the number of threads to create."
   ]
  },
  {
   "cell_type": "code",
   "execution_count": null,
   "id": "3cf85b73",
   "metadata": {},
   "outputs": [],
   "source": [
    "//%compiler: clang\n",
    "//%cflags: -fopenmp\n",
    "\n",
    "#include <stdio.h>\n",
    "#include <stdlib.h>\n",
    "#include <omp.h>\n",
    "\n",
    "int main(int argc, char *argv[]){\n",
    "    #pragma omp parallel num_threads(4)\n",
    "    printf(\"%s\\n\", \"Hello World\");\n",
    "    \n",
    "    return 0;\n",
    "}"
   ]
  },
  {
   "cell_type": "markdown",
   "id": "f0ae9969",
   "metadata": {},
   "source": [
    "In this example, we use the **num_threads** clause to specify the use of 4 threads to execute the parallel region. When the master thread encounters OpenMP constructs, three threads are created, and together with these three threads, a thread group of 4 is formed. \n",
    "*Hello World* is printed four times, once per thread.\n",
    "\n",
    "Through the above examples, it is not difficult to find that the syntax of parallel directive in C is:\n",
    "\n",
    "```\n",
    "#pragma omp parallel [clause[ [,] clause] ... ] new-line\n",
    "    structured-block\n",
    "```\n",
    "\n",
    "And the syntax of **num_threads** clause is：\n",
    "\n",
    "```\n",
    "num_threads(integer-expression)\n",
    "```"
   ]
  },
  {
   "cell_type": "markdown",
   "id": "0b8fbc89",
   "metadata": {},
   "source": [
    "The next two examples show how to use **paralle** diretcive in Fortran, and they have exactly same meaning as the two examples in C above."
   ]
  },
  {
   "cell_type": "code",
   "execution_count": 16,
   "id": "29b05917",
   "metadata": {},
   "outputs": [
    {
     "name": "stdout",
     "output_type": "stream",
     "text": [
      " Hello World\n",
      " Hello World\n",
      " Hello World\n",
      " Hello World\n",
      " Hello World\n",
      " Hello World\n",
      " Hello World\n",
      " Hello World\n"
     ]
    }
   ],
   "source": [
    "!!%compiler: gfortran\n",
    "!!%cflags: -fopenmp\n",
    "\n",
    "PROGRAM Parallel_Hello_World\n",
    "USE OMP_LIB\n",
    "\n",
    "!$OMP PARALLEL\n",
    "\n",
    "  PRINT *, \"Hello World\"\n",
    "\n",
    "!$OMP END PARALLEL\n",
    "\n",
    "END"
   ]
  },
  {
   "cell_type": "code",
   "execution_count": 13,
   "id": "eb7e4cbd",
   "metadata": {},
   "outputs": [
    {
     "name": "stdout",
     "output_type": "stream",
     "text": [
      " Hello World\n",
      " Hello World\n",
      " Hello World\n",
      " Hello World\n"
     ]
    }
   ],
   "source": [
    "!!%compiler: gfortran\n",
    "!!%cflags: -fopenmp\n",
    "\n",
    "PROGRAM Parallel_Hello_World\n",
    "USE OMP_LIB\n",
    "\n",
    "!$OMP PARALLEL num_threads(4)\n",
    "\n",
    "  PRINT *, \"Hello World\"\n",
    "\n",
    "!$OMP END PARALLEL\n",
    "\n",
    "END"
   ]
  },
  {
   "cell_type": "markdown",
   "id": "b39385c2",
   "metadata": {},
   "source": [
    "The syntax of **parallel** directive in Fortran is:\n",
    "```\n",
    "!$omp parallel do [clause[ [,] clause] ... ]\n",
    "    loop-nest\n",
    "[!$omp end parallel do]\n",
    "```\n",
    "\n",
    "Within a parallel region, the thread number uniquely identifies each thread. A thread can obtain its own thread number by calling the **omp_get_thread_num** library routine.\n",
    "\n",
    "The following example is a little more complicated. It shows how to use the **omp_get_thread_num** library routine, and shows how to use two other clauses, the **default** clause and the **private** clause. It assigns tasks to each thread explicitly."
   ]
  },
  {
   "cell_type": "code",
   "execution_count": 14,
   "id": "b1908c43",
   "metadata": {},
   "outputs": [
    {
     "name": "stdout",
     "output_type": "stream",
     "text": [
      "\n",
      "123.456001 123.456001 123.456001 123.456001 123.456001 \n",
      "123.456001 123.456001 123.456001 123.456001 123.456001 \n",
      "123.456001 123.456001 123.456001 123.456001 123.456001 \n",
      "123.456001 123.456001 123.456001 123.456001 123.456001 \n",
      "123.456001 123.456001 123.456001 123.456001 123.456001 \n",
      "123.456001 123.456001 123.456001 123.456001 123.456001 \n",
      "123.456001 123.456001 123.456001 123.456001 123.456001 \n",
      "123.456001 123.456001 123.456001 123.456001 123.456001 \n",
      "123.456001 123.456001 123.456001 123.456001 123.456001 \n",
      "123.456001 123.456001 123.456001 123.456001 123.456001 "
     ]
    }
   ],
   "source": [
    "//%compiler: clang\n",
    "//%cflags: -fopenmp\n",
    "\n",
    "#include <stdio.h>\n",
    "#include <stdlib.h>\n",
    "#include <omp.h>\n",
    "\n",
    "void subdomain(float *x, int istart, int ipoints) {\n",
    "    int i;\n",
    "    for (i = 0; i < ipoints; i++)       \n",
    "         x[istart+i] = 123.456;\n",
    "}\n",
    "\n",
    "void sub(float *x, int npoints) {\n",
    "    int iam, nt, ipoints, istart;\n",
    "    #pragma omp parallel default(shared) private(iam,nt,ipoints,istart)\n",
    "    {\n",
    "        iam = omp_get_thread_num();\n",
    "        nt = omp_get_num_threads();\n",
    "        ipoints = npoints / nt; /* size of partition */\n",
    "        istart = iam * ipoints; /* starting array index */\n",
    "        if (iam == nt-1) /* last thread may do more */\n",
    "            ipoints = npoints - istart;\n",
    "        subdomain(x, istart, ipoints);\n",
    "    }\n",
    "}\n",
    "\n",
    "void print(float *x, int npoints) {\n",
    "    for (int i = 0; i < npoints; i++) {\n",
    "        if(i++ % 10 == 0)\n",
    "            printf(\"\\n\");\n",
    "        printf(\"%f \", x[i]);\n",
    "    }\n",
    "}\n",
    "\n",
    "int main() {\n",
    "    float array[100];\n",
    "    sub(array, 100);\n",
    "    print(array, 100);\n",
    "    return 0;\n",
    "}"
   ]
  },
  {
   "cell_type": "markdown",
   "id": "20db34ef",
   "metadata": {},
   "source": [
    "In the above example, we use the default number of threads to perform assignment operations on 100 elements in the array. Tasks are evenly distributed to each thread, and when the number of tasks is not divisible by the number of threads, the remaining tasks will be completed by the last thread.\n",
    "\n",
    "When programming in parallel, the most important and hardest part is how to assign tasks and manage threads. We already introduced that a thread can get its own id through the **omp_get_thread_num** routine. Another important routine is **omp_get_num_threads**, which returns the number of threads in the current team.\n",
    "\n",
    "In the above example, variable *npoints* presents the total number of elements in the array, and it is divided into *nt* parts, each of size *ipoints*. The starting address of each part is *istart*. Each part is completed by one thread, and a total of 8 threads execute tasks in parallel.\n",
    "\n",
    "The **default** clause is used to define the default data-sharing attributes of variables that are referenced in a parallel, teams, or task generating construct. In the above example, *default(shared)* indicates that by default, the variables in the parallel region are shared variables.\n",
    "The **private** clause is used to explicitly specify variables that are private in each task or SIMD lane (SIMD will be introduced in the next chapter). In the above example, the variables *iam, nt, ipoints* and *istart* are private variables for each thread, which means a thread cannot access these variables of another thread.\n",
    "\n",
    "Both of these two clauses belong to the data-sharing attribute clauses, which we will introduce in detail in the section of clauses later."
   ]
  },
  {
   "cell_type": "markdown",
   "id": "18848ac3",
   "metadata": {},
   "source": []
  },
  {
   "cell_type": "code",
   "execution_count": 2,
   "id": "897482af",
   "metadata": {},
   "outputs": [
    {
     "name": "stderr",
     "output_type": "stream",
     "text": [
      "clang: fatal error: cannot find libdevice for sm_35. Provide path to different CUDA installation via --cuda-path, or pass -nocudalib to build without linking with libdevice.\n",
      "[Native kernel] clang exited with code 1, the executable will not be executed"
     ]
    }
   ],
   "source": []
  },
  {
   "cell_type": "code",
   "execution_count": 19,
   "id": "315a724a",
   "metadata": {},
   "outputs": [
    {
     "name": "stderr",
     "output_type": "stream",
     "text": [
      "/tmp/tmpwit3re_h.c:16:5: error: orphaned 'omp teams' directives are prohibited; perhaps you forget to enclose the directive into a target region?\n",
      "    #pragma omp teams num_teams(nteams_required) thread_limit(max_thrds) private(tm_id)\n",
      "    ^\n",
      "1 error generated.\n",
      "[Native kernel] clang exited with code 1, the executable will not be executed"
     ]
    }
   ],
   "source": []
  },
  {
   "cell_type": "markdown",
   "id": "b615bdfb",
   "metadata": {},
   "source": []
  },
  {
   "cell_type": "markdown",
   "id": "d0629b36",
   "metadata": {},
   "source": [
    "## Clauses"
   ]
  },
  {
   "cell_type": "markdown",
   "id": "1fc04bb4",
   "metadata": {},
   "source": []
  },
  {
   "cell_type": "markdown",
   "id": "e16a6d8d",
   "metadata": {},
   "source": []
  },
  {
   "cell_type": "markdown",
   "id": "a252f343",
   "metadata": {},
   "source": [
    "## Examples"
   ]
  }
 ],
 "metadata": {
  "kernelspec": {
   "display_name": "Native",
   "language": "native",
   "name": "native"
  },
  "language_info": {
   "file_extension": ".c",
   "mimetype": "text/plain",
   "name": "c"
  }
 },
 "nbformat": 4,
 "nbformat_minor": 5
}
