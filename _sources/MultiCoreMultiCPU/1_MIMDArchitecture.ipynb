{
 "cells": [
  {
   "cell_type": "markdown",
   "id": "9570e6db-1f44-4ef8-860c-6c4fe1f2344a",
   "metadata": {},
   "source": [
    "# Multicore and Multi-CPU shared memory systems"
   ]
  },
  {
   "cell_type": "markdown",
   "id": "cda1dec9-b9e6-4f3f-a3b8-a5f4cff8e8de",
   "metadata": {},
   "source": [
    "In this section, we will introduce the MIMD architecture, multi-CPU systems, multi-core systems, and multithreading. Through this section, the readers will understand the structure of computers for parallel computing. To lay the foundation for the  introduction to OpenMP programming.\n"
   ]
  },
  {
   "cell_type": "markdown",
   "id": "9cd9d924-2082-457c-8314-37dea2c1c1cd",
   "metadata": {},
   "source": [
    "## MIMD Architecture\n",
    "Multiple Instruction Multiple Data(MIMD) architecture consists of processors that operate independently and asynchronously from one another. MIMD architecture systems consist of many processors that can have much common memory or memory that is exclusive to one. These terms mean many processes can execute instructions at any time with any piece or segment of data. MIMD architecture consists of two different types of architecture: Shared Memory MIMD architecture and Distributed Memory MIMD architecture. \n",
    "\n",
    "Shared Memory MIMD systems have the following characteristics. Shared Memory MIMD groups processors and memory. Any processor can access that memory through a communication channel designated by the programmer. Finally, the memory addresses are shared between processors. On the other hand, Distributed Memory MIMD systems have their own set of characteristics. First, memory and processors are grouped together in pairs known as processing elements. Which is linked to other PEs through the use of communication channels. Second, each PE communicates with each other by sending messages, communication isn’t as open like that of a Shared Memory MIMD system. \n",
    "\n",
    "The multi-CPU systems and multicore systems we introduce next both belong to the MIMD Architectures.\n"
   ]
  },
  {
   "cell_type": "markdown",
   "id": "b916c7e6-86ef-4d4c-9553-96fb60630e85",
   "metadata": {},
   "source": [
    "## Multi-CPU Systems\n",
    "\n",
    "A multiple CPU machine is made up of two or more CPUs, sharing system bus, memory and I/O.\n",
    "Multiple CPU machines were the original attempt at increasing computational power but since the birth of Multicore machines, most consumer computers have adopted that approach. That being said there is still a purpose for Multiple CPU machines, you will find them in supercomputers, servers, and other nonconsumer equipment that need raw computing power. \n",
    "\n",
    "Multi-CPU systems can be divided into two types according to different memory systems, one uses a shared memory system, and the other uses a distributed memory system. As shown below:\n",
    "\n",
    "\n",
    "![Multi_CPU_systems_model1](2.png \"topic1\")\n",
    "\n",
    "On the left is a diagram of a multi-core CPU, where each core has a small local cache, but all cores have direct access to large shared memory. The diagram on the right shows a distributed memory system where multiple CPUs, each with their own local memory, are connected via a high-speed network. Distributed memory systems are common in distributed clusters and can communicate using MPI. Since OpenMP only supports shared memory systems, we won't discuss distributed memory systems here.\n"
   ]
  },
  {
   "cell_type": "markdown",
   "id": "e42c56b5-e4fa-43c8-90bc-741e0eff714c",
   "metadata": {},
   "source": [
    "## Multicore Systems\n",
    "Multicore machines just mean that the computer has “n” number of central processing units. Although these processors have multiple cores they still fit in one CPU slot on a motherboard all using the same power, cooling, and other hardware.\n",
    "\n",
    "A multi-core example is shown below:\n",
    "![Multi_CPU_systems_model1](CPU_architecture.png \"topic1\")\n",
    "\n",
    "Only two cores are shown in this diagram, but real multi-core processors tend to use more cores. Multiple threads can be loaded onto a core for execution.\n",
    "Each core has L1 and L2 caches that only it can access, but they share the same memory system. For multi-core systems, the difference from multi-CPU systems is that all processors are on the same chip. The operating system treats each core as a separate processor, and each core can work independently.\n"
   ]
  },
  {
   "cell_type": "markdown",
   "id": "8333c793-a6be-48f2-985e-91e55f2cb39b",
   "metadata": {},
   "source": [
    "## Comparation of Multi-CPU Systems and Multicore Systems\n",
    "Both systems have their own advantages and disadvantages.\n",
    "\n",
    "**For multi-CPU systems:**\n",
    "\n",
    "*Advantages*:\n",
    "- Multiple processors can work at the same time, and the throughput will be greatly increased.\n",
    "- When a processor stops working, other processors can help to complete the work, which greatly improves the reliability of the entire system.\n",
    "\n",
    "*Disadvantages*:\n",
    "- Multiple processors work at the same time, and the coordination between them becomes very complicated.\n",
    "- Buses, memory and I/O devices are shared. So if some processor is using some I/O, the other processor has to wait for its turn, which will result in lower throughput.\n",
    "- Increased requirements for memory devices. In order to make all processors work efficiently at the same time, we need to have a large main memory, which increases the cost.\n",
    "\n",
    "**For multi-core systems:**\n",
    "\n",
    "*Advantages*:\n",
    "- Multiple cores are on the same die, which results in higher cache coherence.\n",
    "- The core is very energy efficient, so it can get more performance with less power consumption.\n",
    "\n",
    "*Disadvantages*:\n",
    "- We don't get as good performance as a multi-CPU system. For example, if we have two cores on our CPU, we can theoretically get twice the speedup compared to a single core, but in practice we can only get 70-80% of the ideal speedup.\n",
    "- Some operating systems do not provide good support for multi-core systems.\n",
    "\n",
    "But the readers may have noticed that although the two approaches are slightly different in how fast the processors work together and how they access memory, their design is very similar. And the important thing is that the working logic of OpenMP is the same, which is to create multiple threads and allocate them on different cores. Therefore, we treat them as the same.\n"
   ]
  },
  {
   "cell_type": "markdown",
   "id": "7c12a2b3-3816-4056-b423-cbdd4ea8b44b",
   "metadata": {},
   "source": [
    "## Multithreading\n",
    "Next we will introduce a concept that is very important to OpenMP programming - multithreading.\n",
    "Multithreading is a technology that implements concurrent execution of multiple threads on software or hardware. Thread is usually a concept at the software level and is the actual operating unit in the operating system process.\n",
    "We can divide one huge task into multiple small tasks at the software level and load these tasks on different threads for execution. \n",
    "\n",
    "The multi-threaded concurrency is a pseudo-concurrency in a single-core CPU, which is just a quick switch between multiple tasks through the scheduling strategy. \n",
    "Implementing multithreading on a single-core CPU is essentially an efficient use of CPU core, and try the best to make the CPU core always running at full capacity. The interaction with the memory is dragging down the program's execution speed. Moreover, multithreading can hide part of the interaction time through thread scheduling.\n",
    "The hyper-threading technology essentially simulates multiple logical units in one CPU core. It is an optimization of threads based on the premise that each thread in multithreading is not efficiently used to improve efficiency further. \n",
    "It is used on Intel's top CPUs to pursue the ultimate efficiency.\n",
    "\n",
    "The multi-threading in the multi-core CPU is the actual parallel execution of threads. Even if a core is fully occupied, other cores are not affected and can handle thread scheduling. \n",
    "When the number of threads is less than the number of CPU cores, only some of the cores will work concurrently. When the number of threads is more than the number of cores, they will be loaded on the cores for execution according to a particular scheduling strategy.\n",
    "\n",
    "![Multi_CPU_systems_model1](CPU_architecture.png \"topic1\")\n",
    "We still use this figure as an example to show the architecture of a multi-core CPU that supports hyper-threading technology，Suppose there are 12 cores in the CPU, and we create 24 threads. Since the CPU shown in the figure supports hyper-threading technology, two threads are loaded into one core for execution, so 24 threads can be executed simultaneously. If we have 48 threads, 24 will be executed first and the others will be queued. Whenever a core completes its current task, the first two threads in the queue are loaded onto that core for execution.\n",
    "The cache in the CPU is an essential part of ensuring that threads can access data at high speed.\n",
    "There are two types of L1 caches which are L1i, which stores instructions, and L1d, which stores data.\n",
    "Different threads in the same core share the L1 and L2 cache, and different cores communicate through the L3 cache. The same thread can only run on one CPU core at one time."
   ]
  },
  {
   "cell_type": "code",
   "execution_count": null,
   "id": "21a31557-bbd2-40bf-af60-1067763388cd",
   "metadata": {},
   "outputs": [],
   "source": []
  }
 ],
 "metadata": {
  "kernelspec": {
   "display_name": "Python 3 (ipykernel)",
   "language": "python",
   "name": "python3"
  },
  "language_info": {
   "codemirror_mode": {
    "name": "ipython",
    "version": 3
   },
   "file_extension": ".py",
   "mimetype": "text/x-python",
   "name": "python",
   "nbconvert_exporter": "python",
   "pygments_lexer": "ipython3",
   "version": "3.8.10"
  }
 },
 "nbformat": 4,
 "nbformat_minor": 5
}
