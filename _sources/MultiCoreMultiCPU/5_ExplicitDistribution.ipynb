{
 "cells": [
  {
   "cell_type": "markdown",
   "id": "8110bebe-e1d8-4a00-9263-eda21eb9368e",
   "metadata": {},
   "source": [
    "# Explicit distribution of work using single, sections, workshring-loop, and distribute construct"
   ]
  }
 ],
 "metadata": {
  "kernelspec": {
   "display_name": "Python 3 (ipykernel)",
   "language": "python",
   "name": "python3"
  },
  "language_info": {
   "codemirror_mode": {
    "name": "ipython",
    "version": 3
   },
   "file_extension": ".py",
   "mimetype": "text/x-python",
   "name": "python",
   "nbconvert_exporter": "python",
   "pygments_lexer": "ipython3",
   "version": "3.8.10"
  }
 },
 "nbformat": 4,
 "nbformat_minor": 5
}
