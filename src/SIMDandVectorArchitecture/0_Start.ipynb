Parallel Programming for SIMD and Vector Architecture
=====================================================

Temporary page indicating start of a section