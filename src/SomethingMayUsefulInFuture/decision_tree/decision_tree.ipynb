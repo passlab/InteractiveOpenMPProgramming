{
 "cells": [
  {
   "cell_type": "markdown",
   "metadata": {},
   "source": [
    "# Decision Tree"
   ]
  },
  {
   "cell_type": "markdown",
   "metadata": {},
   "source": [
    "## Prerequisite"
   ]
  },
  {
   "cell_type": "code",
   "execution_count": 1,
   "metadata": {},
   "outputs": [],
   "source": [
    "import re\n",
    "import pandas as pd;\n",
    "import math\n",
    "from sklearn.tree import DecisionTreeClassifier as dt\n",
    "from sklearn.tree import plot_tree\n",
    "import matplotlib"
   ]
  },
  {
   "cell_type": "markdown",
   "metadata": {},
   "source": [
    "## Basic Classes"
   ]
  },
  {
   "cell_type": "code",
   "execution_count": 2,
   "metadata": {},
   "outputs": [],
   "source": [
    "class Node:\n",
    "    \"\"\" Node class for a decision tree. \"\"\"\n",
    "    def __init__(self, names):\n",
    "        self.names = names\n",
    "\n",
    "    def classify(x):\n",
    "        \"\"\" Handled by the subclasses. \"\"\"\n",
    "        return None\n",
    "\n",
    "    def dump(self, indent):\n",
    "        \"\"\" Handled by the subclasses. \"\"\"\n",
    "        return None\n",
    "\n",
    "\n",
    "class Leaf(Node):\n",
    "    def __init__(self, names, value):\n",
    "        Node.__init__(self, names)\n",
    "        self.value = value\n",
    "\n",
    "    def classify(self, x):\n",
    "        return self.value\n",
    "\n",
    "    def dump(self, indent):\n",
    "        print(' %d' % self.value)\n",
    "\n",
    "\n",
    "class Split(Node):\n",
    "    def __init__(self, names, var, left, right):\n",
    "        Node.__init__(self, names)\n",
    "        self.var = var\n",
    "        self.left = left\n",
    "        self.right = right\n",
    "\n",
    "    def classify(self, x):\n",
    "        if x[self.var] == 0:\n",
    "            return self.left.classify(x)\n",
    "        else:\n",
    "            return self.right.classify(x)\n",
    "      \n",
    "    def dump(self, indent):\n",
    "        if indent > 0:\n",
    "            print('')\n",
    "        for i in range(0, indent):\n",
    "            print('| ', end='')\n",
    "        print('%s = 0 :' % self.names[self.var],end='')\n",
    "        self.left.dump(indent+1)\n",
    "        for i in range(0, indent):\n",
    "            print('| ', end='')\n",
    "        print('%s = 1 :' % self.names[self.var],end='')\n",
    "        self.right.dump(indent+1)\n"
   ]
  },
  {
   "cell_type": "markdown",
   "metadata": {},
   "source": [
    "Helper function computes entropy of Bernoulli distribution with parameter p"
   ]
  },
  {
   "cell_type": "code",
   "execution_count": 3,
   "metadata": {},
   "outputs": [],
   "source": [
    "def entropy(p):\n",
    "\n",
    "    if p == 0 or p == 1:\n",
    "        return 0\n",
    "    \n",
    "    result = -(p * math.log2(p) + (1 - p) * math.log2(1 - p))\n",
    "    \n",
    "    return result;\n"
   ]
  },
  {
   "cell_type": "markdown",
   "metadata": {},
   "source": [
    "Compute information gain for a particular split, given the counts \n",
    "\n",
    "py_pxi : number of occurences of y=1 with x_i=1 for all i=1 to n\n",
    "\n",
    "pxi : number of occurrences of x_i=1\n",
    "\n",
    "py : number of ocurrences of y=1\n"
   ]
  },
  {
   "cell_type": "code",
   "execution_count": 4,
   "metadata": {},
   "outputs": [],
   "source": [
    "def infogain(py_pxi, pxi, py, total):\n",
    "\n",
    "    Hs = entropy(py/total)\n",
    "    if pxi == 0:\n",
    "        H1 = 0\n",
    "    else:\n",
    "        H1 = entropy(py_pxi/pxi)\n",
    "    if pxi == total:\n",
    "        H0 = 0\n",
    "    else:\n",
    "        H0 = entropy((py - py_pxi)/(total - pxi))\n",
    "    result = Hs - (pxi/total) * H1 - ((total - pxi)/total) * H0\n",
    "        \n",
    "    return result;\n"
   ]
  },
  {
   "cell_type": "markdown",
   "metadata": {},
   "source": [
    "OTHER SUGGESTED HELPER FUNCTIONS:\n",
    "\n",
    "-collect counts for each variable value with each class label\n",
    "\n",
    "-find the best variable to split on, according to mutual information\n",
    "\n",
    "-partition data based on a given variable\t\n",
    "\t\n"
   ]
  },
  {
   "cell_type": "code",
   "execution_count": 5,
   "metadata": {},
   "outputs": [],
   "source": [
    "# Load data from a file\n",
    "def read_data(filename):\n",
    "    f = open(filename, 'r')\n",
    "    p = re.compile(',')\n",
    "    data = []\n",
    "    header = f.readline().strip()\n",
    "    varnames = p.split(header)\n",
    "    namehash = {}\n",
    "    for l in f:\n",
    "        data.append([int(x) for x in p.split(l.strip())])\n",
    "    return (data, varnames)\n"
   ]
  },
  {
   "cell_type": "markdown",
   "metadata": {},
   "source": [
    "Build tree in a top-down manner, selecting splits until we hit a pure leaf or all splits look bad.\n"
   ]
  },
  {
   "cell_type": "code",
   "execution_count": 6,
   "metadata": {},
   "outputs": [],
   "source": [
    "def build_tree(data, varnames):\n",
    "    \n",
    "    dataSize = len(data)\n",
    "    \n",
    "    # if there's only one class left, the current node will be a leaf node\n",
    "    py = 0\n",
    "    for v in data:\n",
    "        if v[-1] == 1:\n",
    "            py += 1\n",
    "    if py == 0:\n",
    "        return Leaf(varnames, 0)\n",
    "    elif py == dataSize:\n",
    "        return Leaf(varnames, 1)\n",
    "\n",
    "    \n",
    "    # otherwise, the different info gains will be checked\n",
    "    maxGain = -1\n",
    "    maxFeatureIndex = -1\n",
    "\n",
    "    for i in range(len(varnames) - 1):\n",
    "        if varnames[i] != None:\n",
    "            py_pxi = 0\n",
    "            pxi = 0\n",
    "            py = 0\n",
    "            for v in data:\n",
    "                if v[i] == 0:\n",
    "                    if v[-1] == 1:\n",
    "                        py += 1\n",
    "                else:\n",
    "                    if v[-1] == 1:\n",
    "                        py_pxi += 1\n",
    "                        py += 1\n",
    "                    pxi += 1\n",
    "            # calculate the info gain based on the current feature, and update the maximum info gain and corresponding feature index\n",
    "            currentGain = infogain(py_pxi, pxi, py, dataSize)\n",
    "            if currentGain > maxGain:\n",
    "                maxGain = currentGain\n",
    "                maxFeatureIndex = i\n",
    "        \n",
    "    # divide the data set based on the selected feature\n",
    "    leftData = []\n",
    "    rightData = []\n",
    "    \n",
    "    for v in data:\n",
    "        if v[maxFeatureIndex] == 0:\n",
    "            leftData.append(v)\n",
    "        else:\n",
    "            rightData.append(v)\n",
    "    \n",
    "    # disable the features that have been checked\n",
    "    leftNames = varnames.copy()\n",
    "    rightNames = varnames.copy()\n",
    "    leftNames[maxFeatureIndex] = None\n",
    "    rightNames[maxFeatureIndex] = None\n",
    "    \n",
    "    # build the subtrees\n",
    "    leftNode = build_tree(leftData, leftNames)\n",
    "    rightNode = build_tree(rightData, rightNames)\n",
    "    # return the current node after building the subtrees\n",
    "    return Split(varnames, maxFeatureIndex, leftNode, rightNode)\n",
    "\n"
   ]
  },
  {
   "cell_type": "markdown",
   "metadata": {},
   "source": [
    "## Main Program"
   ]
  },
  {
   "cell_type": "markdown",
   "metadata": {},
   "source": [
    "Here we load data.\n",
    "Each example is a list of attribute values, where the last element in the list is the class value.\n"
   ]
  },
  {
   "cell_type": "code",
   "execution_count": 7,
   "metadata": {},
   "outputs": [],
   "source": [
    "(train, varnames) = read_data('agaricuslepiotatrain1.csv')\n",
    "(test, testvarnames) = read_data('agaricuslepiotatest1.csv')\n",
    "#(train, varnames) = read_data('training_set.csv')\n",
    "#(test, testvarnames) = read_data('test_set.csv') "
   ]
  },
  {
   "cell_type": "code",
   "execution_count": 8,
   "metadata": {},
   "outputs": [
    {
     "data": {
      "text/html": [
       "<div>\n",
       "<style scoped>\n",
       "    .dataframe tbody tr th:only-of-type {\n",
       "        vertical-align: middle;\n",
       "    }\n",
       "\n",
       "    .dataframe tbody tr th {\n",
       "        vertical-align: top;\n",
       "    }\n",
       "\n",
       "    .dataframe thead th {\n",
       "        text-align: right;\n",
       "    }\n",
       "</style>\n",
       "<table border=\"1\" class=\"dataframe\">\n",
       "  <thead>\n",
       "    <tr style=\"text-align: right;\">\n",
       "      <th></th>\n",
       "      <th>0</th>\n",
       "      <th>1</th>\n",
       "      <th>2</th>\n",
       "      <th>3</th>\n",
       "      <th>4</th>\n",
       "      <th>5</th>\n",
       "      <th>6</th>\n",
       "      <th>7</th>\n",
       "      <th>8</th>\n",
       "      <th>9</th>\n",
       "      <th>...</th>\n",
       "      <th>113</th>\n",
       "      <th>114</th>\n",
       "      <th>115</th>\n",
       "      <th>116</th>\n",
       "      <th>117</th>\n",
       "      <th>118</th>\n",
       "      <th>119</th>\n",
       "      <th>120</th>\n",
       "      <th>121</th>\n",
       "      <th>122</th>\n",
       "    </tr>\n",
       "  </thead>\n",
       "  <tbody>\n",
       "    <tr>\n",
       "      <th>0</th>\n",
       "      <td>0</td>\n",
       "      <td>0</td>\n",
       "      <td>1</td>\n",
       "      <td>0</td>\n",
       "      <td>0</td>\n",
       "      <td>0</td>\n",
       "      <td>0</td>\n",
       "      <td>0</td>\n",
       "      <td>0</td>\n",
       "      <td>1</td>\n",
       "      <td>...</td>\n",
       "      <td>0</td>\n",
       "      <td>0</td>\n",
       "      <td>0</td>\n",
       "      <td>0</td>\n",
       "      <td>0</td>\n",
       "      <td>0</td>\n",
       "      <td>1</td>\n",
       "      <td>0</td>\n",
       "      <td>0</td>\n",
       "      <td>1</td>\n",
       "    </tr>\n",
       "    <tr>\n",
       "      <th>1</th>\n",
       "      <td>0</td>\n",
       "      <td>0</td>\n",
       "      <td>1</td>\n",
       "      <td>0</td>\n",
       "      <td>0</td>\n",
       "      <td>0</td>\n",
       "      <td>0</td>\n",
       "      <td>0</td>\n",
       "      <td>0</td>\n",
       "      <td>1</td>\n",
       "      <td>...</td>\n",
       "      <td>0</td>\n",
       "      <td>0</td>\n",
       "      <td>1</td>\n",
       "      <td>0</td>\n",
       "      <td>0</td>\n",
       "      <td>0</td>\n",
       "      <td>0</td>\n",
       "      <td>0</td>\n",
       "      <td>0</td>\n",
       "      <td>0</td>\n",
       "    </tr>\n",
       "    <tr>\n",
       "      <th>2</th>\n",
       "      <td>1</td>\n",
       "      <td>0</td>\n",
       "      <td>0</td>\n",
       "      <td>0</td>\n",
       "      <td>0</td>\n",
       "      <td>0</td>\n",
       "      <td>0</td>\n",
       "      <td>0</td>\n",
       "      <td>0</td>\n",
       "      <td>1</td>\n",
       "      <td>...</td>\n",
       "      <td>0</td>\n",
       "      <td>0</td>\n",
       "      <td>0</td>\n",
       "      <td>0</td>\n",
       "      <td>1</td>\n",
       "      <td>0</td>\n",
       "      <td>0</td>\n",
       "      <td>0</td>\n",
       "      <td>0</td>\n",
       "      <td>0</td>\n",
       "    </tr>\n",
       "    <tr>\n",
       "      <th>3</th>\n",
       "      <td>0</td>\n",
       "      <td>0</td>\n",
       "      <td>1</td>\n",
       "      <td>0</td>\n",
       "      <td>0</td>\n",
       "      <td>0</td>\n",
       "      <td>0</td>\n",
       "      <td>0</td>\n",
       "      <td>1</td>\n",
       "      <td>0</td>\n",
       "      <td>...</td>\n",
       "      <td>0</td>\n",
       "      <td>0</td>\n",
       "      <td>0</td>\n",
       "      <td>0</td>\n",
       "      <td>0</td>\n",
       "      <td>0</td>\n",
       "      <td>1</td>\n",
       "      <td>0</td>\n",
       "      <td>0</td>\n",
       "      <td>1</td>\n",
       "    </tr>\n",
       "    <tr>\n",
       "      <th>4</th>\n",
       "      <td>0</td>\n",
       "      <td>0</td>\n",
       "      <td>1</td>\n",
       "      <td>0</td>\n",
       "      <td>0</td>\n",
       "      <td>0</td>\n",
       "      <td>0</td>\n",
       "      <td>0</td>\n",
       "      <td>0</td>\n",
       "      <td>1</td>\n",
       "      <td>...</td>\n",
       "      <td>0</td>\n",
       "      <td>0</td>\n",
       "      <td>1</td>\n",
       "      <td>0</td>\n",
       "      <td>0</td>\n",
       "      <td>0</td>\n",
       "      <td>0</td>\n",
       "      <td>0</td>\n",
       "      <td>0</td>\n",
       "      <td>0</td>\n",
       "    </tr>\n",
       "  </tbody>\n",
       "</table>\n",
       "<p>5 rows × 123 columns</p>\n",
       "</div>"
      ],
      "text/plain": [
       "   0    1    2    3    4    5    6    7    8    9    ...  113  114  115  116  \\\n",
       "0    0    0    1    0    0    0    0    0    0    1  ...    0    0    0    0   \n",
       "1    0    0    1    0    0    0    0    0    0    1  ...    0    0    1    0   \n",
       "2    1    0    0    0    0    0    0    0    0    1  ...    0    0    0    0   \n",
       "3    0    0    1    0    0    0    0    0    1    0  ...    0    0    0    0   \n",
       "4    0    0    1    0    0    0    0    0    0    1  ...    0    0    1    0   \n",
       "\n",
       "   117  118  119  120  121  122  \n",
       "0    0    0    1    0    0    1  \n",
       "1    0    0    0    0    0    0  \n",
       "2    1    0    0    0    0    0  \n",
       "3    0    0    1    0    0    1  \n",
       "4    0    0    0    0    0    0  \n",
       "\n",
       "[5 rows x 123 columns]"
      ]
     },
     "execution_count": 8,
     "metadata": {},
     "output_type": "execute_result"
    }
   ],
   "source": [
    "pd.DataFrame(train).head()"
   ]
  },
  {
   "cell_type": "code",
   "execution_count": 9,
   "metadata": {},
   "outputs": [],
   "source": [
    "#varnames"
   ]
  },
  {
   "cell_type": "raw",
   "metadata": {},
   "source": [
    "# use sklearn library for comparison\n",
    "clf = dt(criterion='entropy', splitter='best', max_depth=5)\n",
    "train_x = []\n",
    "train_y = []\n",
    "for v in train:\n",
    "    train_x.append(v[:-1])\n",
    "    train_y.append(v[-1])\n",
    "clf.fit(train_x, train_y)\n",
    "test_x = []\n",
    "test_y = []\n",
    "for v in test:\n",
    "    test_x.append(v[:-1])\n",
    "    test_y.append(v[-1])\n",
    "plot_tree(clf)\n",
    "\n",
    "acc = 0\n",
    "pred = clf.predict(test_x)\n",
    "for i in range(len(pred)):\n",
    "    if pred[i] == test_y[i]:\n",
    "        acc += 1\n",
    "print(acc/len(test_x))"
   ]
  },
  {
   "cell_type": "markdown",
   "metadata": {},
   "source": [
    "Build the decision tree"
   ]
  },
  {
   "cell_type": "code",
   "execution_count": 10,
   "metadata": {},
   "outputs": [],
   "source": [
    "root = build_tree(train, varnames)"
   ]
  },
  {
   "cell_type": "raw",
   "metadata": {},
   "source": [
    "Draw the tree.\n",
    "\n",
    "\n",
    "Sample more for mushroom:\n",
    "odor-foul = 0 :\n",
    "| gill-size-narrow = 0 :\n",
    "| | spore-print-color-green = 0 : 0\n",
    "| | spore-print-color-green = 1 : 1\n",
    "| gill-size-narrow = 1 :\n",
    "| | odor-none = 0 :\n",
    "| | | gill-spacing-close = 0 :\n",
    "| | | | bruises?-bruises = 0 : 1\n",
    "| | | | bruises?-bruises = 1 : 0\n",
    "| | | gill-spacing-close = 1 : 1\n",
    "| | odor-none = 1 :\n",
    "| | | stalk-surface-above-ring-silky = 0 :\n",
    "| | | | bruises?-bruises = 0 : 0\n",
    "| | | | bruises?-bruises = 1 : 1\n",
    "| | | stalk-surface-above-ring-silky = 1 : 1\n",
    "odor-foul = 1 : 1\n",
    "\n",
    "According to this model if odor-foul is 0 and gill-size-narrow = 0 and spore-print-color-green is 1 then predicted class is one."
   ]
  },
  {
   "cell_type": "code",
   "execution_count": 11,
   "metadata": {},
   "outputs": [
    {
     "name": "stdout",
     "output_type": "stream",
     "text": [
      "odor-foul = 0 :\n",
      "| gill-size-broad = 0 :\n",
      "| | odor-none = 0 :\n",
      "| | | gill-spacing-close = 0 :\n",
      "| | | | bruises?-bruises = 0 : 1\n",
      "| | | | bruises?-bruises = 1 : 0\n",
      "| | | gill-spacing-close = 1 : 1\n",
      "| | odor-none = 1 :\n",
      "| | | stalk-surface-above-ring-silky = 0 :\n",
      "| | | | bruises?-bruises = 0 : 0\n",
      "| | | | bruises?-bruises = 1 : 1\n",
      "| | | stalk-surface-above-ring-silky = 1 : 1\n",
      "| gill-size-broad = 1 :\n",
      "| | spore-print-color-green = 0 : 0\n",
      "| | spore-print-color-green = 1 : 1\n",
      "odor-foul = 1 : 1\n"
     ]
    }
   ],
   "source": [
    "root.dump(0)\n",
    "\n"
   ]
  },
  {
   "cell_type": "markdown",
   "metadata": {},
   "source": [
    "Calcuating the accuracy"
   ]
  },
  {
   "cell_type": "code",
   "execution_count": 12,
   "metadata": {},
   "outputs": [],
   "source": [
    "def accuracy(data):\n",
    "    correct = 0\n",
    "    # The position of the class label is the last element in the list.\n",
    "    yi = len(data[0]) - 1\n",
    "    for x in data:\n",
    "    # Classification is done recursively by the node class.\n",
    "    # This should work as-is.\n",
    "        pred = root.classify(x)\n",
    "        if pred == x[yi]:\n",
    "            correct += 1\n",
    "        acc = float(correct)/len(data)\n",
    "    return acc;\n",
    "   "
   ]
  },
  {
   "cell_type": "markdown",
   "metadata": {},
   "source": [
    "## Results"
   ]
  },
  {
   "cell_type": "code",
   "execution_count": 13,
   "metadata": {},
   "outputs": [
    {
     "name": "stdout",
     "output_type": "stream",
     "text": [
      "Train Accuracy: 1.0\n"
     ]
    }
   ],
   "source": [
    " print(\"Train Accuracy: {}\".format(accuracy(train)))"
   ]
  },
  {
   "cell_type": "code",
   "execution_count": 14,
   "metadata": {},
   "outputs": [
    {
     "name": "stdout",
     "output_type": "stream",
     "text": [
      "Test Accuracy: 0.9792941176470589\n"
     ]
    }
   ],
   "source": [
    " print(\"Test Accuracy: {}\".format(accuracy(test)))"
   ]
  }
 ],
 "metadata": {
  "kernelspec": {
   "display_name": "Python 3",
   "language": "python",
   "name": "python3"
  },
  "language_info": {
   "codemirror_mode": {
    "name": "ipython",
    "version": 3
   },
   "file_extension": ".py",
   "mimetype": "text/x-python",
   "name": "python",
   "nbconvert_exporter": "python",
   "pygments_lexer": "ipython3",
   "version": "3.9.1"
  }
 },
 "nbformat": 4,
 "nbformat_minor": 4
}
