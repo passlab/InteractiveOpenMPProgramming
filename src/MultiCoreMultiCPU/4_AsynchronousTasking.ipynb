{
 "cells": [
  {
   "cell_type": "markdown",
   "id": "015cf5de-9b8c-4acf-b906-6c3acc1d83e6",
   "metadata": {},
   "source": [
    "# Asynchronous tasking"
   ]
  }
 ],
 "metadata": {
  "kernelspec": {
   "display_name": "Python 3 (ipykernel)",
   "language": "python",
   "name": "python3"
  },
  "language_info": {
   "codemirror_mode": {
    "name": "ipython",
    "version": 3
   },
   "file_extension": ".py",
   "mimetype": "text/x-python",
   "name": "python",
   "nbconvert_exporter": "python",
   "pygments_lexer": "ipython3",
   "version": "3.8.10"
  }
 },
 "nbformat": 4,
 "nbformat_minor": 5
}
