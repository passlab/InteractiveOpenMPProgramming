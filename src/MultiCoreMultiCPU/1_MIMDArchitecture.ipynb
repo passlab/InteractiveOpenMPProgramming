{
 "cells": [
  {
   "cell_type": "markdown",
   "id": "9570e6db-1f44-4ef8-860c-6c4fe1f2344a",
   "metadata": {},
   "source": [
    "# Multicore and Multi-CPU shared memory systems"
   ]
  }
 ],
 "metadata": {
  "kernelspec": {
   "display_name": "Python 3 (ipykernel)",
   "language": "python",
   "name": "python3"
  },
  "language_info": {
   "codemirror_mode": {
    "name": "ipython",
    "version": 3
   },
   "file_extension": ".py",
   "mimetype": "text/x-python",
   "name": "python",
   "nbconvert_exporter": "python",
   "pygments_lexer": "ipython3",
   "version": "3.8.10"
  }
 },
 "nbformat": 4,
 "nbformat_minor": 5
}
