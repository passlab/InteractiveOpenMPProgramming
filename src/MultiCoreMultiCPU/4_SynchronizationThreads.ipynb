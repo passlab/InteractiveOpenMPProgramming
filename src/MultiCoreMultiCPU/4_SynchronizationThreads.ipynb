{
 "cells": [
  {
   "cell_type": "markdown",
   "id": "274986cf-eb9d-43fb-9e5e-747375967074",
   "metadata": {},
   "source": [
    "# Synchronization of threads using barrier and order directive"
   ]
  },
  {
   "cell_type": "code",
   "execution_count": null,
   "id": "78a661e5-3bca-4157-bae6-45d81ffc704c",
   "metadata": {},
   "outputs": [],
   "source": [
    "OpenMP synchronization for parallel include barrier and .."
   ]
  }
 ],
 "metadata": {
  "kernelspec": {
   "display_name": "Python 3 (ipykernel)",
   "language": "python",
   "name": "python3"
  },
  "language_info": {
   "codemirror_mode": {
    "name": "ipython",
    "version": 3
   },
   "file_extension": ".py",
   "mimetype": "text/x-python",
   "name": "python",
   "nbconvert_exporter": "python",
   "pygments_lexer": "ipython3",
   "version": "3.8.10"
  }
 },
 "nbformat": 4,
 "nbformat_minor": 5
}
