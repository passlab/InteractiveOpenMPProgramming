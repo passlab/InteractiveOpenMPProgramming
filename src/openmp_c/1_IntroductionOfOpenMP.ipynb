{
 "cells": [
  {
   "cell_type": "markdown",
   "id": "3fd7c2f9-f29e-4057-982e-01836c6c6940",
   "metadata": {},
   "source": [
    "# What is OpenMP?\n",
    "OpenMP is a standard parallel programming API for shared memory environments, written in C, C++, or FORTRAN.\n",
    "It consists of a set of compiler directives with a \"lightweight\" syntax, library routines, and environment variables that influence run-time behavior. OpenMP is governed by OpenMP Architecture Review Board (or OpenMP ARB), and defined by a number of hardware and software vendors.\n",
    "\n",
    "OpenMP behavoir is directly dependent on the OpenMP implementation. Capabilties of this implementation can enable the programmer to seperate program into serial and parallel reigons rather than just concurrently running threads, hides stack managemend, and provides synchronization of constructs. That being said OpenMP will not garuntee speedup, parallelize dependencies, or prevent data racing. Data racing, keeping track of dependencies, and working towards a speedup are all up to the programmer.\n",
    "\n",
    "# Why we use OpenMP?\n",
    "OpenMP has received considerable attention in the past decade and is considered by many to be an ideal solution for parallel programming, because it has unique advantages as a mainstream diretcive-based programming model.\n",
    "\n",
    "First of all, OpenMP provides a cross-platform, cross-compiler solution. It supports lots of platforms such as Linux, macOS, and Windows. Mainstream compilers including GCC, LLVM/Clang, Intel Fortran and C/C++ compilers provide OpenMP good support. Also, with the rapid development of OpenMP, many researchers and computer vendors are constantly exploring how to optimize the execution efficiency of OpenMP programs, and continue to propose improvements for exiting compilers or develop new compilers. What's more. OpenMP is a standard specification, and all compilers that support it implement the same set of standards, and there are no portability issues.\n",
    "\n",
    "Secondly, using Openmp can be very convenient and flexible to modify the number of threads. To solve the scalability problem of the number of CPU cores. In the multi-core era, the number of threads needs to change according to the number of CPU cores. OpenMP has irreplaceable advantages in this regard.\n",
    "\n",
    "Thirdly, using OpenMP to create threads is considered to be convenient and relatively easy because it does not require an entry function, the code within the same function can be decomposed into multiple threads for execution, and a for loop can be decomposed into multiple threads for execution. If OpenMP is not used, when the operating system API creates a thread, the code in a function needs to be manually disassembled into multiple thread entry functions.\n",
    "\n",
    "To sum up, OpenMP has irreplaceable advantages in parallel programming. More and more new diretcives are being added to achieve more functions, and they are playing an important role on many different platforms.\n",
    "\n",
    "# How to write and compile OpenMP programs?\n",
    "A series of directives and clauses in OpenMP identify code blocks as parallel regions. Programmers only need to insert these directives into the code, so OpenMP is defined as a kind of directive_based language.\n",
    "\n",
    "\n",
    "\n",
    "\n",
    "## An Example\n",
    "The following is a example of a simple OpenMP program:"
   ]
  },
  {
   "cell_type": "code",
   "execution_count": 1,
   "id": "f8f811b6-102d-43e7-8fca-e36e2852f4d2",
   "metadata": {},
   "outputs": [
    {
     "name": "stdout",
     "output_type": "stream",
     "text": [
      "Hello World\n",
      "Hello World\n",
      "Hello World\n",
      "Hello World\n"
     ]
    }
   ],
   "source": [
    "//%compiler: clang\n",
    "//%cflags: -fopenmp\n",
    "\n",
    "#include <stdio.h>\n",
    "#include <stdlib.h>\n",
    "#include <omp.h>\n",
    "\n",
    "char message[] = \"Hello World\";\n",
    "void hello(){\n",
    "    printf(\"%s\\n\", message);\n",
    "}\n",
    "int main(int argc, char *argv[]){\n",
    "    int threads = 4;\n",
    "    #pragma omp parallel num_threads(threads)\n",
    "    hello();\n",
    "    \n",
    "    return 0;\n",
    "}"
   ]
  },
  {
   "cell_type": "code",
   "execution_count": null,
   "id": "ca50a923-7866-429c-9b25-00bd7c69637f",
   "metadata": {},
   "outputs": [],
   "source": []
  }
 ],
 "metadata": {
  "kernelspec": {
   "display_name": "Native",
   "language": "native",
   "name": "native"
  },
  "language_info": {
   "file_extension": ".c",
   "mimetype": "text/plain",
   "name": "c"
  }
 },
 "nbformat": 4,
 "nbformat_minor": 5
}
