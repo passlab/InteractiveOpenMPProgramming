{
 "cells": [
  {
   "cell_type": "markdown",
   "id": "4b8fad19-277a-435f-b590-615e0b18c764",
   "metadata": {},
   "source": [
    "# Performance Analysis\n",
    "For parallel programs, performance is the primary concern. In this section, we briefly introduce some factors that affect performance when programming, and some ways to improve performance.\n",
    "\n",
    "## Factors which affect the performance"
   ]
  }
 ],
 "metadata": {
  "kernelspec": {
   "display_name": "Python 3 (ipykernel)",
   "language": "python",
   "name": "python3"
  },
  "language_info": {
   "codemirror_mode": {
    "name": "ipython",
    "version": 3
   },
   "file_extension": ".py",
   "mimetype": "text/x-python",
   "name": "python",
   "nbconvert_exporter": "python",
   "pygments_lexer": "ipython3",
   "version": "3.8.10"
  }
 },
 "nbformat": 4,
 "nbformat_minor": 5
}
