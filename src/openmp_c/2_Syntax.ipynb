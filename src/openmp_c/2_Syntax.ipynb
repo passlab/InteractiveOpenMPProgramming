{
 "cells": [
  {
   "cell_type": "markdown",
   "id": "a45c1d76-fbbb-4ae8-9224-3ede2cefce0c",
   "metadata": {},
   "source": [
    "# Creating a Parallel Program with OpenMP\n",
    "In this section, we will introduce the syntax of OpenMP, how to compile OpenMP programs, and give the readers an overall picture of OpenMP programs through two simple examples.\n",
    "\n",
    "## OpenMP Directives and Syntax\n",
    "A series of directives and clauses in OpenMP identify code blocks as parallel regions. Programmers only need to insert these directives into the code, so OpenMP is defined as a kind of directive_based language.\n",
    "In C/C++, the directive is based on the #pragma omp construct. In Fortran, instructions begin with ! $omp. This is a regular language pragma (in C/C++) or a regular comment (in Fortran) for Compilers. So special option is need when the compiler is required to generate OpenMP code. Otherwise the compiler won't recognize it and simply ignore it.\n",
    "\n",
    "\n",
    "## How to compile OpenMP programs?\n",
    "\n",
    "In this book, all our examples are compiled using LLVM/Clang on Ubuntu 20.04. LLVM/Clang has the advantages of fast compilation speed, less memory usage, and modular design.\n",
    "To execute OpenMP code, you need to add -fopenmp when compiling. The full command to compile is \n",
    "```js\n",
    "clang -fopenmp filename.c -o filename.o\n",
    "```\n",
    "\n",
    "## Creating a simple OpenMP Program\n"
   ]
  },
  {
   "cell_type": "code",
   "execution_count": null,
   "id": "e91021a8-1744-46a4-8929-dc897dc30f3d",
   "metadata": {},
   "outputs": [],
   "source": [
    "//%compiler: clang\n",
    "//%cflags: -fopenmp\n",
    "\n",
    "#include <stdio.h>\n",
    "#include <stdlib.h>\n",
    "#include <omp.h>\n",
    "\n",
    "int main(int argc, char *argv[]){\n",
    "    int threads = 4;\n",
    "    #pragma omp parallel num_threads(threads)\n",
    "    printf(\"%s\\n\", \"Hello World\");\n",
    "    \n",
    "    return 0;\n",
    "}"
   ]
  },
  {
   "cell_type": "code",
   "execution_count": null,
   "id": "7ce78416-fe49-4d11-aa90-18defa433799",
   "metadata": {},
   "outputs": [],
   "source": [
    "//%compiler: clang\n",
    "//%cflags: -fopenmp\n",
    "\n",
    "#include <stdio.h>\n",
    "#include <stdlib.h>\n",
    "#include <omp.h>\n",
    "\n",
    "char message[] = \"Hello World\";\n",
    "void hello(){\n",
    "    printf(\"%s\\n\", message);\n",
    "}\n",
    "int main(int argc, char *argv[]){\n",
    "    int threads = 4;\n",
    "    #pragma omp parallel num_threads(threads)\n",
    "    hello();\n",
    "    \n",
    "    return 0;\n",
    "}"
   ]
  }
 ],
 "metadata": {
  "kernelspec": {
   "display_name": "Python 3 (ipykernel)",
   "language": "python",
   "name": "python3"
  },
  "language_info": {
   "codemirror_mode": {
    "name": "ipython",
    "version": 3
   },
   "file_extension": ".py",
   "mimetype": "text/x-python",
   "name": "python",
   "nbconvert_exporter": "python",
   "pygments_lexer": "ipython3",
   "version": "3.8.10"
  }
 },
 "nbformat": 4,
 "nbformat_minor": 5
}
